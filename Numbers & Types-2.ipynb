{
 "cells": [
  {
   "cell_type": "code",
   "execution_count": 1,
   "id": "f632b19e-3e99-4a0e-8b0b-3dfb8845a1a4",
   "metadata": {},
   "outputs": [
    {
     "data": {
      "text/plain": [
       "24"
      ]
     },
     "execution_count": 1,
     "metadata": {},
     "output_type": "execute_result"
    }
   ],
   "source": [
    "# Marco Gonzalez \n",
    "# Numbers and Types \n",
    "# March 23, 2025\n",
    "\n",
    "# 3.1 Calculate seconds in an hour\n",
    "seconds_per_hour = 60 * 60\n",
    "seconds_per_hour\n",
    "\n",
    "# 3.2 Assign to variable\n",
    "seconds_per_hour\n",
    "\n",
    "# 3.3 Calculate seconds in a day\n",
    "seconds_per_day = seconds_per_hour * 24\n",
    "seconds_per_day\n",
    "\n",
    "# 3.4 Floating-point division\n",
    "seconds_per_day / seconds_per_hour\n",
    "\n",
    "# 3.5 Integer division\n",
    "seconds_per_day // seconds_per_hour\n"
   ]
  },
  {
   "cell_type": "code",
   "execution_count": null,
   "id": "ecbb8081-9220-4d34-a236-61a76d95c6f5",
   "metadata": {},
   "outputs": [],
   "source": []
  }
 ],
 "metadata": {
  "kernelspec": {
   "display_name": "Python [conda env:base] *",
   "language": "python",
   "name": "conda-base-py"
  },
  "language_info": {
   "codemirror_mode": {
    "name": "ipython",
    "version": 3
   },
   "file_extension": ".py",
   "mimetype": "text/x-python",
   "name": "python",
   "nbconvert_exporter": "python",
   "pygments_lexer": "ipython3",
   "version": "3.12.7"
  }
 },
 "nbformat": 4,
 "nbformat_minor": 5
}
